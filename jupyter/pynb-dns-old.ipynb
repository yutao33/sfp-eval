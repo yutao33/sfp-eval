{
 "cells": [
  {
   "cell_type": "code",
   "execution_count": null,
   "metadata": {},
   "outputs": [],
   "source": [
    "DATADIR=\"../tmp/data\"\n",
    "\n",
    "import pandas as pd\n",
    "import os\n",
    "ii=0\n",
    "for root, dirs, files in os.walk(DATADIR):\n",
    "    print(root)\n",
    "    print(dirs)\n",
    "    print(files)\n",
    "    for f in files:\n",
    "        d = pd.read_csv(DATADIR+\"/\"+f, error_bad_lines =False,names=['time','src','dst','proto', 'vol','src_port','dst_port'])\n",
    "        dns=d[(d['dst_port']=='53')]\n",
    "        dns.to_csv(\"dnsdata1/i\"+str(ii)+\".csv\",index=False)\n",
    "        ii+=1\n"
   ]
  },
  {
   "cell_type": "code",
   "execution_count": null,
   "metadata": {},
   "outputs": [],
   "source": [
    "\n",
    "#################################\n",
    "alldf=[]\n",
    "for i in range(ii):\n",
    "    df = pd.read_csv(\"dnsdata1/i\"+str(i)+\".csv\");\n",
    "    alldf.append(df)\n",
    "df = pd.concat(alldf,axis=0,ignore_index=True)\n",
    "\n"
   ]
  },
  {
   "cell_type": "code",
   "execution_count": null,
   "metadata": {},
   "outputs": [],
   "source": [
    "import pyasn\n",
    "\n",
    "DEFAULT_ASNDB='../sfp-eval/ipasn.20190116.1600.dat'\n",
    "asndb = pyasn.pyasn(DEFAULT_ASNDB)\n",
    "# src_asn = asndb.lookup(columns[1])[0]\n",
    "\n",
    "stat={}\n",
    "for i,dd in df.iterrows():\n",
    "    srcas = asndb.lookup(str(dd.src))[0]\n",
    "    if not srcas:\n",
    "        continue\n",
    "    stat.setdefault(srcas,{})\n",
    "    dnsserver = str(dd.dst)\n",
    "    stat[srcas][dnsserver] = stat[srcas].get(dnsserver,0)+int(dd.vol)\n"
   ]
  },
  {
   "cell_type": "code",
   "execution_count": 84,
   "metadata": {},
   "outputs": [],
   "source": [
    "with open('../sfp-eval/stubs.txt') as f:\n",
    "    t =str(f.read())\n",
    "    stubs = t.split()"
   ]
  },
  {
   "cell_type": "code",
   "execution_count": 108,
   "metadata": {},
   "outputs": [],
   "source": [
    "stat2 = {k:v for k,v in stat.items() if str(k) in stubs}\n",
    "t=[(k,sum(v.values())) for k,v in stat2.items()]\n",
    "t.sort(key=lambda x:x[1],reverse=True)\n",
    "total = t[0:50]\n",
    "stat2 = [(i[0],stat2[i[0]]) for i in t[0:50]]"
   ]
  },
  {
   "cell_type": "code",
   "execution_count": 114,
   "metadata": {},
   "outputs": [
    {
     "name": "stdout",
     "output_type": "stream",
     "text": [
      "[19065, 200139, 36647, 32475, 16625, 11712, 714, 22552, 13238, 46746, 58411, 63949, 36351, 32244, 7046, 32906, 46912, 37963, 16509, 33070, 109, 25609, 32360, 29802, 12041, 18986, 14618, 23556, 53567, 62702, 17012, 14492, 23650, 18082, 30340, 19353, 15169, 38538, 34934, 29984, 11643, 3450, 46475, 22653, 16276, 20860, 20773, 18108, 1348, 25694]\n"
     ]
    },
    {
     "data": {
      "image/png": "[encoded data removed]",
      "text/plain": [
       "<Figure size 432x288 with 1 Axes>"
      ]
     },
     "metadata": {
      "needs_background": "light"
     },
     "output_type": "display_data"
    }
   ],
   "source": [
    "def plot1(total):\n",
    "    xlabel = []\n",
    "    y=[]\n",
    "    for k,v in total:\n",
    "        xlabel.append(k)\n",
    "        y.append(v)\n",
    "    print(xlabel)\n",
    "    x=list(range(len(total)))\n",
    "    plt.bar(x,y)\n",
    "    plt.xlabel(\"AS\")\n",
    "    plt.ylabel(\"total DNS traffic\")\n",
    "    plt.savefig(\"totaldnstraffic.png\",dpi=600,bbox_inches='tight')\n",
    "plot1(total)"
   ]
  },
  {
   "cell_type": "code",
   "execution_count": 106,
   "metadata": {
    "scrolled": false
   },
   "outputs": [
    {
     "data": {
      "image/png": "[encoded data removed]",
      "text/plain": [
       "<Figure size 432x288 with 1 Axes>"
      ]
     },
     "metadata": {
      "needs_background": "light"
     },
     "output_type": "display_data"
    }
   ],
   "source": [
    "\n",
    "def plot2(stat2):\n",
    "    xlabel=[]\n",
    "    y=[]\n",
    "    for k,v in stat2:\n",
    "        xlabel.append(str(k))\n",
    "        yy=list(v.values())\n",
    "        y.append(yy)\n",
    "\n",
    "    ml = max(len(yi) for yi in y)\n",
    "\n",
    "    for yi in y:\n",
    "        if len(yi)<ml:\n",
    "            yi.extend([0 for _ in range(ml-len(yi))])\n",
    "        yi.sort(reverse = True)\n",
    "\n",
    "    x=list(range(len(xlabel)))\n",
    "\n",
    "    ry=[]\n",
    "    for yy in y:\n",
    "        ry.append(list(sum(yy[i:])/float(sum(yy)) for i in range(50)))\n",
    "\n",
    "\n",
    "    for i in range(min(ml,30)):\n",
    "        py = [ry[ii][i] for ii in x]\n",
    "        plt.bar(x, py)\n",
    "    # plt.show()\n",
    "    plt.xlabel('AS')\n",
    "    plt.ylabel('top 50 DNS server traffic volume percent\\n(each block is the percent of traffic volume \\nfrom DNS server to the AS, \\nthe bottom block is sum of other cases)')\n",
    "    plt.savefig('result2.png',dpi=600, bbox_inches='tight')\n",
    "    return xlabel\n",
    "\n",
    "asnum = plot2(stat2)"
   ]
  },
  {
   "cell_type": "code",
   "execution_count": 116,
   "metadata": {},
   "outputs": [],
   "source": [
    "import json\n",
    "with open('dnsstat.json','w') as f:\n",
    "    json.dump(stat, f)"
   ]
  },
  {
   "cell_type": "code",
   "execution_count": null,
   "metadata": {},
   "outputs": [],
   "source": []
  }
 ],
 "metadata": {
  "kernelspec": {
   "display_name": "Python 3",
   "language": "python",
   "name": "python3"
  },
  "language_info": {
   "codemirror_mode": {
    "name": "ipython",
    "version": 3
   },
   "file_extension": ".py",
   "mimetype": "text/x-python",
   "name": "python",
   "nbconvert_exporter": "python",
   "pygments_lexer": "ipython3",
   "version": "3.7.1"
  }
 },
 "nbformat": 4,
 "nbformat_minor": 2
}
