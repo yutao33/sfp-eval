{
 "cells": [
  {
   "cell_type": "code",
   "execution_count": null,
   "metadata": {},
   "outputs": [],
   "source": [
    "import pandas as pd\n",
    "import os\n",
    "import  multiprocessing as mp\n",
    "import subprocess\n",
    "# d = pd.read_csv(\"../tmp/test2all.dat\",error_bad_lines =False,names=['time','src','dst','proto', 'vol','src_port','dst_port'])\n",
    "DATAOUTDIR=\"ntpdata1_1\"\n",
    "DATADIR= \"../passive-2016/equinix-chicago/20160121-130000.UTC\"  #\"../tmp/data\"\n",
    "\n",
    "global DbgV\n",
    "\n",
    "# tshark -r test.pcap.gz -Y udp -Tfields -e \"ip.src\" -e \"ip.dst\" -e \"udp.srcport\"  -e \"udp.dstport\" -Eseparator=,\n",
    "# tshark -r test.pcap.gz -Y tcp -Tfields -e \"ip.src\" -e \"ip.dst\" -Taggregator=,\n",
    "\n",
    "def worker(f,ii):\n",
    "    # global DbgV\n",
    "    # d = pd.read_csv(DATADIR+\"/\"+f, error_bad_lines =False,names=['time','src','dst','proto', 'vol','src_port','dst_port'])\n",
    "    # sld=d[(d['proto']=='UDP')]\n",
    "    # DbgV=d\n",
    "    # sld['vol']=sld['vol'].astype(int)\n",
    "    # grouped = sld['vol'].groupby(sld['src_port'])\n",
    "    # ss = grouped.sum()\n",
    "    print(f)\n",
    "    print(ii)\n",
    "    cmd='tshark -r %s -Y udp -Tfields -e \"ip.src\" -e \"ip.dst\" -e \"ip.len\" -e \"udp.srcport\"  -e \"udp.dstport\" -Eseparator=,'%(DATADIR+\"/\"+f)\n",
    "    print(cmd)\n",
    "    p = subprocess.Popen(cmd, shell=True, stdout=subprocess.PIPE) \n",
    "    print(\"popen\")\n",
    "    d = pd.read_csv(p.stdout, error_bad_lines =False,names=['src','dst','iplen','src_port','dst_port'],dtype=str)\n",
    "    print(\"read\")\n",
    "    p.wait()\n",
    "    print(\"wait\")\n",
    "    sld=d[(d['src_port']=='123')| (d['dst_port']=='123')]\n",
    "    sld.to_csv(DATAOUTDIR+\"/\"+str(ii)+\".csv\",index=False)\n",
    "    print(\"to_csv\")\n",
    "\n",
    "p = mp.Pool(processes=32)\n",
    "\n",
    "ii=0\n",
    "for root, dirs, files in os.walk(DATADIR):\n",
    "    print(root)\n",
    "    print(dirs)\n",
    "    print(files)\n",
    "    for f in files:\n",
    "        #p.apply_async(worker,(f,ii))\n",
    "        if f[-7:]==\"pcap.gz\":\n",
    "            p.apply_async(worker,(f,ii))\n",
    "            ii+=1\n",
    "\n",
    "p.close()\n",
    "p.join()"
   ]
  },
  {
   "cell_type": "code",
   "execution_count": null,
   "metadata": {},
   "outputs": [],
   "source": []
  }
 ],
 "metadata": {
  "kernelspec": {
   "display_name": "Python 3",
   "language": "python",
   "name": "python3"
  },
  "language_info": {
   "codemirror_mode": {
    "name": "ipython",
    "version": 3
   },
   "file_extension": ".py",
   "mimetype": "text/x-python",
   "name": "python",
   "nbconvert_exporter": "python",
   "pygments_lexer": "ipython3",
   "version": "3.7.1"
  }
 },
 "nbformat": 4,
 "nbformat_minor": 2
}
