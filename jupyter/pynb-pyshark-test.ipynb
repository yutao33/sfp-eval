{
 "cells": [
  {
   "cell_type": "code",
   "execution_count": null,
   "metadata": {},
   "outputs": [],
   "source": [
    "import pyshark\n",
    "import sys\n",
    "import pyasn\n",
    "import pandas as pd\n",
    "\n",
    "DEFAULT_ASNDB='../sfp-eval/ipasn.20190116.1600.dat'\n",
    "asndb = pyasn.pyasn(DEFAULT_ASNDB)"
   ]
  },
  {
   "cell_type": "code",
   "execution_count": null,
   "metadata": {},
   "outputs": [],
   "source": [
    "def get_data():\n",
    "    cap = pyshark.FileCapture('/home/pcl/8LStudentYuHaitao/passive-2016/equinix-chicago/20160121-130000.UTC/equinix-chicago.dirB.20160121-130300.UTC.anon.pcap.gz',\n",
    "                         display_filter='udp')\n",
    "    data = []\n",
    "    i=0\n",
    "    for pkt in cap:\n",
    "        i+=1\n",
    "        if i%10000==0:\n",
    "            print(i)\n",
    "        if 'ip' not in pkt:\n",
    "            print(\"not in\")\n",
    "            continue\n",
    "        if int(pkt.ip.proto)==17:\n",
    "            data.append(['udp', str(pkt.ip.src), str(pkt.ip.dst), int(pkt.udp.srcport), int(pkt.udp.dstport)])\n",
    "        elif int(pkt.ip.proto)==6:\n",
    "            data.append(['tcp', str(pkt.ip.src), str(pkt.ip.dst), int(pkt.tcp.srcport), int(pkt.tcp.dstport)])\n",
    "    return pd.DataFrame(data, columns=['proto', 'ipsrc','ipdst','srcport','dstport'])\n",
    "\n",
    "a=get_data()"
   ]
  },
  {
   "cell_type": "code",
   "execution_count": null,
   "metadata": {},
   "outputs": [],
   "source": []
  }
 ],
 "metadata": {
  "kernelspec": {
   "display_name": "Python 3",
   "language": "python",
   "name": "python3"
  },
  "language_info": {
   "codemirror_mode": {
    "name": "ipython",
    "version": 3
   },
   "file_extension": ".py",
   "mimetype": "text/x-python",
   "name": "python",
   "nbconvert_exporter": "python",
   "pygments_lexer": "ipython3",
   "version": "3.7.1"
  }
 },
 "nbformat": 4,
 "nbformat_minor": 2
}
