{
 "cells": [
  {
   "cell_type": "code",
   "execution_count": null,
   "metadata": {},
   "outputs": [],
   "source": [
    "from matplotlib import pyplot as plt\n",
    "import seaborn as sns\n",
    "import pandas as pd\n",
    "import re\n",
    "import os\n",
    "\n",
    "NAME=\"result-21899\"\n",
    "\n",
    "RESULTDIR=\"/home/pcl/8LStudentYuHaitao/tmp/sfp/code/sfp_eval/analysis/\"+NAME\n",
    "\n",
    "result=[]\n",
    "\n",
    "\n",
    "for root, dirs, files in os.walk(RESULTDIR):\n",
    "    for name in files:\n",
    "        print(name)\n",
    "        path = os.path.join(root, name)\n",
    "        print(path)\n",
    "        ns = name.split(\"-\")\n",
    "        if ns[1]=='4':\n",
    "            n = int(ns[0])\n",
    "            lines = open(path).readlines()\n",
    "            print(lines)\n",
    "            if len(lines)<4:\n",
    "                print(\"lines < 4\")\n",
    "            else:\n",
    "                P = float(lines[1].split()[-1])\n",
    "                F = float(lines[3].split()[-1])\n",
    "                result.append((n,P,F))\n",
    "\n",
    "\n",
    "print(result)\n",
    "\n",
    "# for i in range(1,51):\n",
    "#     for j in range(1,24):\n",
    "#         f=open(RESULTDIR+\"/%d-3-%d.txt\"%(i,j))\n",
    "#         s=str(f.read())\n",
    "#         mat = re.match(\"\\((\\d+), (\\d+)\\)\",s)\n",
    "#         if not mat:\n",
    "#             print(s)\n",
    "#             print(f.name)\n",
    "#             print(\"error match\")\n",
    "#         else:\n",
    "#             a=int(mat[1])\n",
    "#             b=int(mat[2])\n",
    "#             result.append([j,a,b])\n",
    "# print(result)\n"
   ]
  },
  {
   "cell_type": "code",
   "execution_count": null,
   "metadata": {},
   "outputs": [],
   "source": [
    "c0=\"AS Num\"\n",
    "c1=\"Prefix-based LB Index\"\n",
    "c2=\"FRIEND-based LB Index\"\n",
    "df = pd.DataFrame(result, columns=[c0,c1,c2], dtype=float)\n",
    "df[c0]=df[c0].astype(int)\n",
    "sns.boxplot(x=c0,y=c1,data=df)\n",
    "# plt.show()\n",
    "plt.savefig(\"result/%s-prefix.pdf\"%NAME,dpi=300, bbox_inches='tight')\n",
    "\n",
    "\n",
    "plt.clf()\n",
    "sns.boxplot(x=c0,y=c2,data=df)\n",
    "# plt.show()\n",
    "plt.savefig(\"result/%s-friend.pdf\"%NAME,dpi=300, bbox_inches='tight')"
   ]
  },
  {
   "cell_type": "code",
   "execution_count": null,
   "metadata": {},
   "outputs": [],
   "source": []
  }
 ],
 "metadata": {
  "kernelspec": {
   "display_name": "Python 3",
   "language": "python",
   "name": "python3"
  },
  "language_info": {
   "codemirror_mode": {
    "name": "ipython",
    "version": 3
   },
   "file_extension": ".py",
   "mimetype": "text/x-python",
   "name": "python",
   "nbconvert_exporter": "python",
   "pygments_lexer": "ipython3",
   "version": "3.7.1"
  }
 },
 "nbformat": 4,
 "nbformat_minor": 2
}
