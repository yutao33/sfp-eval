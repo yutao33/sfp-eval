{
 "cells": [
  {
   "cell_type": "code",
   "execution_count": null,
   "metadata": {},
   "outputs": [],
   "source": [
    "from matplotlib import pyplot as plt\n",
    "# import seaborn as sns\n",
    "import pandas as pd\n",
    "import re\n",
    "import os\n",
    "\n",
    "NAME=\"result-stability\"\n",
    "\n",
    "RESULTDIR=\"/home/pcl/8LStudentYuHaitao/tmp/sfp/code/sfp_eval/analysis/\"+NAME\n",
    "\n",
    "result=[]\n",
    "\n",
    "\n",
    "for root, dirs, files in os.walk(RESULTDIR):\n",
    "    for name in files:\n",
    "        print(name)\n",
    "        path = os.path.join(root, name)\n",
    "        ns = name.split(\".\")\n",
    "        if ns[1]=='txt':\n",
    "            asn = int(ns[0])\n",
    "            lines = open(path).readlines()\n",
    "            lines = iter(lines)\n",
    "            try:\n",
    "                while True:\n",
    "                    next(lines)\n",
    "                    next(lines)\n",
    "                    diff = next(lines)\n",
    "                    if not diff:\n",
    "                        break\n",
    "                    if diff=='None\\n':\n",
    "                        print(\"None\")\n",
    "                        continue\n",
    "                    diff = int(diff)\n",
    "                    result.append((asn, diff))\n",
    "            except:\n",
    "                pass\n",
    "\n",
    "print(result)\n"
   ]
  },
  {
   "cell_type": "code",
   "execution_count": null,
   "metadata": {
    "scrolled": false
   },
   "outputs": [],
   "source": [
    "plt.rcParams[\"lines.linewidth\"]=1.5\n",
    "plt.rcParams[\"patch.linewidth\"]=1.5\n",
    "\n",
    "import numpy as np\n",
    "\n",
    "c0=\"AS\"\n",
    "c1=\"diff\"\n",
    "df = pd.DataFrame(result, columns=[c0,c1], dtype=float)\n",
    "# df.to_csv(\"csv/stability.csv\", index=False)\n",
    "df = pd.read_csv(\"csv/stability.csv\")\n",
    "\n",
    "\n",
    "a = df[c1]/63361\n",
    "a.hist(cumulative = True,density=True, histtype='step',bins=1000,label=\"FRIEND\", range=(0,0.21))\n",
    "\n",
    "# a=-df[c1]\n",
    "# a.hist(cumulative = True,density=True, histtype='step',bins=500,label=\"Prefix\", range= (-1,0))\n",
    "\n",
    "\n",
    "# a = np.around(np.linspace(1,0,6), decimals=1)\n",
    "\n",
    "# plt.xticks(np.linspace(-1,0,6), a)\n",
    "plt.xlabel(\"Affected AS Number / Total AS Number\")\n",
    "plt.ylabel(\"CDF\")\n",
    "plt.xlim([0,0.2])\n",
    "\n",
    "# plt.legend(loc='upper left')\n",
    "\n",
    "plt.savefig(\"result/%s-cdf.pdf\"%NAME,dpi=300, bbox_inches='tight')\n"
   ]
  },
  {
   "cell_type": "code",
   "execution_count": null,
   "metadata": {},
   "outputs": [],
   "source": [
    "len(df)"
   ]
  },
  {
   "cell_type": "code",
   "execution_count": null,
   "metadata": {},
   "outputs": [],
   "source": []
  }
 ],
 "metadata": {
  "kernelspec": {
   "display_name": "Python 3",
   "language": "python",
   "name": "python3"
  },
  "language_info": {
   "codemirror_mode": {
    "name": "ipython",
    "version": 3
   },
   "file_extension": ".py",
   "mimetype": "text/x-python",
   "name": "python",
   "nbconvert_exporter": "python",
   "pygments_lexer": "ipython3",
   "version": "3.7.1"
  }
 },
 "nbformat": 4,
 "nbformat_minor": 2
}
