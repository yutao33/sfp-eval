{
 "cells": [
  {
   "cell_type": "code",
   "execution_count": 45,
   "metadata": {},
   "outputs": [],
   "source": [
    "from matplotlib import pyplot as plt\n",
    "# import seaborn as sns\n",
    "import pandas as pd\n",
    "import re\n",
    "import os\n",
    "\n",
    "NAME=\"result-stability2\"\n",
    "\n",
    "RESULTDIR=\"/home/pcl/8LStudentYuHaitao/tmp/sfp/code/sfp_eval/analysis/\"+NAME\n",
    "\n",
    "\n",
    "\n",
    "def get_diff_value(path):\n",
    "    try:\n",
    "        lines = open(path).readlines()\n",
    "    except:\n",
    "        return None\n",
    "    lines = iter(lines)\n",
    "    result = []\n",
    "    try:\n",
    "        while True:\n",
    "            next(lines)\n",
    "            next(lines)\n",
    "            diff = next(lines)\n",
    "            if not diff:\n",
    "                break\n",
    "            if diff=='None\\n':\n",
    "#                 print(\"None\")\n",
    "                continue\n",
    "            diff = int(diff)\n",
    "            result.append(diff)\n",
    "    except:\n",
    "        pass\n",
    "    return result\n",
    "    \n",
    "\n",
    "    \n",
    "result=[]\n",
    "\n",
    "for root, dirs, files in os.walk(RESULTDIR):\n",
    "    for name in files:\n",
    "#         print(name)\n",
    "        path = os.path.join(root, name)\n",
    "        ns = name.split(\".\")\n",
    "        if ns[1]=='txt':\n",
    "            asn = int(ns[0])\n",
    "            diff1 = get_diff_value(\"/home/pcl/8LStudentYuHaitao/tmp/sfp/code/sfp_eval/analysis/result-stability1/\"+name)\n",
    "            diff2 = get_diff_value(path)\n",
    "            diff3 = get_diff_value(\"/home/pcl/8LStudentYuHaitao/tmp/sfp/code/sfp_eval/analysis/result-stability3/\"+name)\n",
    "            diff4 = get_diff_value(\"/home/pcl/8LStudentYuHaitao/tmp/sfp/code/sfp_eval/analysis/result-stability/\"+name)\n",
    "            if diff1 and diff2 and diff3:\n",
    "                result.extend((asn, a, 1) for a in diff1)\n",
    "                result.extend((asn, a, 2) for a in diff2)\n",
    "                result.extend((asn, a, 3) for a in diff3)\n",
    "                result.extend((asn, a, 4) for a in diff4)\n",
    "            \n",
    "# print(result)\n"
   ]
  },
  {
   "cell_type": "code",
   "execution_count": 56,
   "metadata": {
    "scrolled": false
   },
   "outputs": [
    {
     "name": "stdout",
     "output_type": "stream",
     "text": [
      "31\n"
     ]
    },
    {
     "data": {
      "image/png": "[encoded data removed]",
      "text/plain": [
       "<Figure size 388.8x259.2 with 1 Axes>"
      ]
     },
     "metadata": {
      "needs_background": "light"
     },
     "output_type": "display_data"
    }
   ],
   "source": [
    "plt.rcParams[\"lines.linewidth\"]=1.5\n",
    "plt.rcParams[\"patch.linewidth\"]=1.5\n",
    "\n",
    "import numpy as np\n",
    "\n",
    "width=5.4\n",
    "height=width*4/6\n",
    "fig = plt.figure(figsize=(width,height))\n",
    "\n",
    "c0=\"C_AS\"\n",
    "c1=\"Diff_NUM\"\n",
    "c2=\"S_AS_NUM\"\n",
    "df = pd.DataFrame(result, columns=[c0,c1,c2], dtype=float)\n",
    "df.to_csv(\"csv/stability.csv\", index=False)\n",
    "# df = pd.read_csv(\"csv/stability.csv\")\n",
    "\n",
    "style=['-','--','-.',':']\n",
    "\n",
    "labels=[\n",
    "    \"Request 1 FRIEND server\",\n",
    "    \"Request 2 FRIEND servers\",\n",
    "    \"Request 3 FRIEND servers\",\n",
    "    \"Request 4 FRIEND servers\"\n",
    "]\n",
    "\n",
    "for s_as_num in 1,2,3,4:\n",
    "    a = df[df[c2]==s_as_num][c1]/63361.0\n",
    "    #a.hist(cumulative = True,density=True, histtype='step',bins=1000,label=\"Number of requested FRIEND servers=%d\"%s_as_num, range=(0,0.26) )\n",
    "    #label=\"Number of requested FRIEND servers=%d\"%s_as_num,\n",
    "    x = np.linspace(0,0.26,100)\n",
    "    s = a.count()\n",
    "    y = np.array([a[a<v].count()/s for v in x])\n",
    "    plt.plot(x,y, linestyle=style[s_as_num-1],label=labels[s_as_num-1])\n",
    "    if s_as_num==1:\n",
    "        i = np.where(y>0.9)[0][0]\n",
    "        print(i)\n",
    "        x0=x[i]\n",
    "        y0=y[i]\n",
    "        plt.vlines(x0, 0,y0, color='r',linewidth=1)\n",
    "        plt.hlines(y0, 0, x0, color='r',linewidth=1)\n",
    "\n",
    "# a=-df[c1]\n",
    "# a.hist(cumulative = True,density=True, histtype='step',bins=500,label=\"Prefix\", range= (-1,0))\n",
    "\n",
    "\n",
    "# a = np.around(np.linspace(1,0,6), decimals=1)\n",
    "\n",
    "# plt.xticks(np.linspace(-1,0,6), a)\n",
    "plt.xlabel(\"Number of affected ASes / Number of all ASes\",fontsize=12)\n",
    "plt.ylabel(\"CDF\",fontsize=13)\n",
    "plt.xlim([0,0.25])\n",
    "plt.ylim([0,1])\n",
    "plt.grid()\n",
    "\n",
    "plt.legend(loc='lower right')\n",
    "\n",
    "fig.savefig(\"result/result-stability-cdf.pdf\",dpi=300, bbox_inches='tight')\n"
   ]
  },
  {
   "cell_type": "code",
   "execution_count": 47,
   "metadata": {},
   "outputs": [
    {
     "data": {
      "text/plain": [
       "C_AS        74611\n",
       "Diff_NUM    74611\n",
       "S_AS_NUM    74611\n",
       "dtype: int64"
      ]
     },
     "execution_count": 47,
     "metadata": {},
     "output_type": "execute_result"
    }
   ],
   "source": [
    "df.count()"
   ]
  },
  {
   "cell_type": "code",
   "execution_count": null,
   "metadata": {},
   "outputs": [],
   "source": []
  }
 ],
 "metadata": {
  "kernelspec": {
   "display_name": "Python 3",
   "language": "python",
   "name": "python3"
  },
  "language_info": {
   "codemirror_mode": {
    "name": "ipython",
    "version": 3
   },
   "file_extension": ".py",
   "mimetype": "text/x-python",
   "name": "python",
   "nbconvert_exporter": "python",
   "pygments_lexer": "ipython3",
   "version": "3.7.1"
  }
 },
 "nbformat": 4,
 "nbformat_minor": 2
}
